{
  "nbformat": 4,
  "nbformat_minor": 0,
  "metadata": {
    "colab": {
      "name": "assignment 4.ipynb",
      "provenance": [],
      "authorship_tag": "ABX9TyOJY+eNG9LZ+25lu422U0mG",
      "include_colab_link": true
    },
    "kernelspec": {
      "name": "python3",
      "display_name": "Python 3"
    }
  },
  "cells": [
    {
      "cell_type": "markdown",
      "metadata": {
        "id": "view-in-github",
        "colab_type": "text"
      },
      "source": [
        "<a href=\"https://colab.research.google.com/github/laya2002/python-assignment/blob/master/assignment_4.ipynb\" target=\"_parent\"><img src=\"https://colab.research.google.com/assets/colab-badge.svg\" alt=\"Open In Colab\"/></a>"
      ]
    },
    {
      "cell_type": "markdown",
      "metadata": {
        "id": "aQ-BsKDYAtRk",
        "colab_type": "text"
      },
      "source": [
        "write a python program to find maximum of three numbers"
      ]
    },
    {
      "cell_type": "code",
      "metadata": {
        "id": "1fwI_X4DDAwf",
        "colab_type": "code",
        "colab": {}
      },
      "source": [
        "def max_of_two(x,y,z):\n",
        "  if x>y:\n",
        "    return x\n",
        "    return y\n",
        "    def max_of_three(x,y,z):\n",
        "      return max_of_two(x,max_of_two(y,z))\n",
        "      print(max_of_three(1,2,-5))"
      ],
      "execution_count": 15,
      "outputs": []
    },
    {
      "cell_type": "markdown",
      "metadata": {
        "id": "cK5RQ5PrENqt",
        "colab_type": "text"
      },
      "source": [
        "python progrm to reverse a string"
      ]
    },
    {
      "cell_type": "code",
      "metadata": {
        "id": "WYH5AFkVEbD-",
        "colab_type": "code",
        "colab": {
          "base_uri": "https://localhost:8080/",
          "height": 51
        },
        "outputId": "37eb7482-14f4-473f-9d2c-e9e6b18c4c54"
      },
      "source": [
        "s=str(input(\"Enter the string\"))\n",
        "print(s[::-1])"
      ],
      "execution_count": 16,
      "outputs": [
        {
          "output_type": "stream",
          "text": [
            "Enter the stringlaya\n",
            "ayal\n"
          ],
          "name": "stdout"
        }
      ]
    },
    {
      "cell_type": "markdown",
      "metadata": {
        "id": "MDJHVvTLEyfg",
        "colab_type": "text"
      },
      "source": [
        "python program to check if a number is prime or not"
      ]
    },
    {
      "cell_type": "code",
      "metadata": {
        "id": "Zq7zWsdoE8k2",
        "colab_type": "code",
        "colab": {
          "base_uri": "https://localhost:8080/",
          "height": 129
        },
        "outputId": "01454b35-1829-4ca1-9360-04ecc31ecd31"
      },
      "source": [
        "num=int(input(\"Enter a number: \"))\n",
        "if num > 1:\n",
        "  for i in range(2,num):\n",
        "    if(num % i) == 0:\n",
        "      print(num,\"is not a prime number\")\n",
        "      print(i,\"times\",num//i,\"is\",num)\n",
        "      break\n",
        "   else:   \n",
        "        print(num,\"is a prime number\")\n",
        "        else:\n",
        "          print(num,\"is not a prime number\")"
      ],
      "execution_count": 20,
      "outputs": [
        {
          "output_type": "error",
          "ename": "IndentationError",
          "evalue": "ignored",
          "traceback": [
            "\u001b[0;36m  File \u001b[0;32m\"<ipython-input-20-0f1a96abf8dd>\"\u001b[0;36m, line \u001b[0;32m8\u001b[0m\n\u001b[0;31m    else:\u001b[0m\n\u001b[0m            ^\u001b[0m\n\u001b[0;31mIndentationError\u001b[0m\u001b[0;31m:\u001b[0m unindent does not match any outer indentation level\n"
          ]
        }
      ]
    },
    {
      "cell_type": "markdown",
      "metadata": {
        "id": "5l8A_4buGQdY",
        "colab_type": "text"
      },
      "source": [
        "python program to find sum of squares of first n natural numbers"
      ]
    },
    {
      "cell_type": "code",
      "metadata": {
        "id": "5QkC1u0tGdvV",
        "colab_type": "code",
        "colab": {
          "base_uri": "https://localhost:8080/",
          "height": 34
        },
        "outputId": "8c105239-5e26-4ad8-d912-5981222aaf84"
      },
      "source": [
        "n=int(input(\"enter the n value:\"))\n",
        "def sqsum(n) :\n",
        "  sm = 0\n",
        "  for i in range(1 , n+1) :\n",
        "    sm =sm + pow(i,2)\n",
        "    return sm\n",
        "    print(sqsum(n))"
      ],
      "execution_count": 21,
      "outputs": [
        {
          "output_type": "stream",
          "text": [
            "enter the n value:6\n"
          ],
          "name": "stdout"
        }
      ]
    }
  ]
}