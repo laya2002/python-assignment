{
  "nbformat": 4,
  "nbformat_minor": 0,
  "metadata": {
    "colab": {
      "name": "assignment 5.ipynb",
      "provenance": [],
      "authorship_tag": "ABX9TyPTLgWVj5nlB1QEP7yu9iLm",
      "include_colab_link": true
    },
    "kernelspec": {
      "name": "python3",
      "display_name": "Python 3"
    }
  },
  "cells": [
    {
      "cell_type": "markdown",
      "metadata": {
        "id": "view-in-github",
        "colab_type": "text"
      },
      "source": [
        "<a href=\"https://colab.research.google.com/github/laya2002/python-assignment/blob/master/assignment_5.ipynb\" target=\"_parent\"><img src=\"https://colab.research.google.com/assets/colab-badge.svg\" alt=\"Open In Colab\"/></a>"
      ]
    },
    {
      "cell_type": "markdown",
      "metadata": {
        "id": "io_2dtZXjp23",
        "colab_type": "text"
      },
      "source": [
        "write a python program to find area of circle using math function"
      ]
    },
    {
      "cell_type": "code",
      "metadata": {
        "id": "cyq0rCuCjyse",
        "colab_type": "code",
        "colab": {
          "base_uri": "https://localhost:8080/",
          "height": 51
        },
        "outputId": "e3b0b0ec-9340-47e8-dc37-c134c8042d9c"
      },
      "source": [
        "import math\n",
        "r=float(input(\"enter the radius of a circle\"))\n",
        "area=math.pi*r*r\n",
        "print(\"%2.f\" %area)"
      ],
      "execution_count": 1,
      "outputs": [
        {
          "output_type": "stream",
          "text": [
            "enter the radius of a circle6\n",
            "113\n"
          ],
          "name": "stdout"
        }
      ]
    },
    {
      "cell_type": "markdown",
      "metadata": {
        "id": "tZhgWhOskXL2",
        "colab_type": "text"
      },
      "source": [
        "write a python program to find area of regular polygon using math function"
      ]
    },
    {
      "cell_type": "code",
      "metadata": {
        "id": "W-1KiJaOkpS1",
        "colab_type": "code",
        "colab": {
          "base_uri": "https://localhost:8080/",
          "height": 68
        },
        "outputId": "ad8c2a3e-1b91-4e58-88d1-3a35534e51cc"
      },
      "source": [
        "from math import tan\n",
        "n=int(input(\"no of sides is\"))\n",
        "s=int(input())\n",
        "area=((n*s)/(4*tan(3.14/n)))\n",
        "print(area)"
      ],
      "execution_count": 3,
      "outputs": [
        {
          "output_type": "stream",
          "text": [
            "no of sides is3\n",
            "5\n",
            "2.1677187462070617\n"
          ],
          "name": "stdout"
        }
      ]
    },
    {
      "cell_type": "markdown",
      "metadata": {
        "id": "6TgXq1JUlZfI",
        "colab_type": "text"
      },
      "source": [
        "write a program to generate random numbers between 110000 and differnce between them is 50"
      ]
    },
    {
      "cell_type": "code",
      "metadata": {
        "id": "LQ_rEnLilxKP",
        "colab_type": "code",
        "colab": {
          "base_uri": "https://localhost:8080/",
          "height": 34
        },
        "outputId": "588b7433-0123-4c41-c92c-d8ffdd9e6411"
      },
      "source": [
        "import random\n",
        "print('random number with difference 50 is',random.randrange(0,110000,50))"
      ],
      "execution_count": 4,
      "outputs": [
        {
          "output_type": "stream",
          "text": [
            "random number with difference 50 is 85950\n"
          ],
          "name": "stdout"
        }
      ]
    },
    {
      "cell_type": "markdown",
      "metadata": {
        "id": "aSzYPQe_n3Rd",
        "colab_type": "text"
      },
      "source": [
        "python program to find area of segment of circl formula using math function"
      ]
    },
    {
      "cell_type": "code",
      "metadata": {
        "id": "0nUL8msOoDoo",
        "colab_type": "code",
        "colab": {}
      },
      "source": [
        "def sectorarea():\n",
        "    pi=22/7\n",
        "    radius = float(input('radius of circle: '))\n",
        "    angle=float(input('angle measure: '))\n",
        "    if angle >= 360:\n",
        "         print(\"Angle is not possible\")\n",
        "         return\n",
        "  sur_area = (pi*radius**2)*(angle/360)\n",
        "  print(\"Sector area: \", sur_area))\n",
        "sectorarea()"
      ],
      "execution_count": null,
      "outputs": []
    },
    {
      "cell_type": "markdown",
      "metadata": {
        "id": "DJQ7DQwMptuA",
        "colab_type": "text"
      },
      "source": [
        "python program to shuffle the list"
      ]
    },
    {
      "cell_type": "code",
      "metadata": {
        "id": "OzBY8D1wp4-I",
        "colab_type": "code",
        "colab": {}
      },
      "source": [
        "from random import shuffle\n",
        "l1[100,1,2,3,30,40,\"hai\",\"hello\"]\n",
        "shuffle(l1)\n",
        "print(l1)"
      ],
      "execution_count": null,
      "outputs": []
    },
    {
      "cell_type": "markdown",
      "metadata": {
        "id": "jjiVVar5qgag",
        "colab_type": "text"
      },
      "source": [
        "python programs by using math module\n"
      ]
    },
    {
      "cell_type": "code",
      "metadata": {
        "id": "Bja2x1nxqvsW",
        "colab_type": "code",
        "colab": {
          "base_uri": "https://localhost:8080/",
          "height": 34
        },
        "outputId": "2fe85830-e8bb-4b79-9028-111f66f7713a"
      },
      "source": [
        "math.sin(60)"
      ],
      "execution_count": 8,
      "outputs": [
        {
          "output_type": "execute_result",
          "data": {
            "text/plain": [
              "-0.3048106211022167"
            ]
          },
          "metadata": {
            "tags": []
          },
          "execution_count": 8
        }
      ]
    },
    {
      "cell_type": "code",
      "metadata": {
        "id": "7zG17ziTq1Rs",
        "colab_type": "code",
        "colab": {
          "base_uri": "https://localhost:8080/",
          "height": 34
        },
        "outputId": "ca8a9fd0-c7c5-413a-8413-9a1bf038af93"
      },
      "source": [
        "pi=22/7\n",
        "math.cos(pi)"
      ],
      "execution_count": 9,
      "outputs": [
        {
          "output_type": "execute_result",
          "data": {
            "text/plain": [
              "-0.999999200533553"
            ]
          },
          "metadata": {
            "tags": []
          },
          "execution_count": 9
        }
      ]
    },
    {
      "cell_type": "code",
      "metadata": {
        "id": "I4mvUf37rBM0",
        "colab_type": "code",
        "colab": {
          "base_uri": "https://localhost:8080/",
          "height": 34
        },
        "outputId": "366f99b6-e130-459a-dc75-eb5c0a65d6d0"
      },
      "source": [
        "math.tan(90)"
      ],
      "execution_count": 10,
      "outputs": [
        {
          "output_type": "execute_result",
          "data": {
            "text/plain": [
              "-1.995200412208242"
            ]
          },
          "metadata": {
            "tags": []
          },
          "execution_count": 10
        }
      ]
    },
    {
      "cell_type": "code",
      "metadata": {
        "id": "vocsYnebp48v",
        "colab_type": "code",
        "colab": {
          "base_uri": "https://localhost:8080/",
          "height": 34
        },
        "outputId": "f54a5c1a-583a-44f2-f4d4-3687518d54a7"
      },
      "source": [
        "math.sin(0.8660254037844386)"
      ],
      "execution_count": 12,
      "outputs": [
        {
          "output_type": "execute_result",
          "data": {
            "text/plain": [
              "0.7617599814162892"
            ]
          },
          "metadata": {
            "tags": []
          },
          "execution_count": 12
        }
      ]
    },
    {
      "cell_type": "code",
      "metadata": {
        "id": "tWaHXg_Zrq3T",
        "colab_type": "code",
        "colab": {
          "base_uri": "https://localhost:8080/",
          "height": 34
        },
        "outputId": "25c9e828-428f-4f10-b092-078f2061c6cd"
      },
      "source": [
        "math.sqrt(400)"
      ],
      "execution_count": 13,
      "outputs": [
        {
          "output_type": "execute_result",
          "data": {
            "text/plain": [
              "20.0"
            ]
          },
          "metadata": {
            "tags": []
          },
          "execution_count": 13
        }
      ]
    },
    {
      "cell_type": "code",
      "metadata": {
        "id": "MFvN05hlrwyj",
        "colab_type": "code",
        "colab": {
          "base_uri": "https://localhost:8080/",
          "height": 34
        },
        "outputId": "86d424cd-f566-46c4-803d-58f556fee55b"
      },
      "source": [
        "math.pow(5,math.e)"
      ],
      "execution_count": 14,
      "outputs": [
        {
          "output_type": "execute_result",
          "data": {
            "text/plain": [
              "79.43235916621322"
            ]
          },
          "metadata": {
            "tags": []
          },
          "execution_count": 14
        }
      ]
    },
    {
      "cell_type": "code",
      "metadata": {
        "id": "OBfGgba7r3yp",
        "colab_type": "code",
        "colab": {
          "base_uri": "https://localhost:8080/",
          "height": 34
        },
        "outputId": "5bf3eda9-6458-4ba5-ecbf-5c3328da95b6"
      },
      "source": [
        "math.log(1024,2)"
      ],
      "execution_count": 15,
      "outputs": [
        {
          "output_type": "execute_result",
          "data": {
            "text/plain": [
              "10.0"
            ]
          },
          "metadata": {
            "tags": []
          },
          "execution_count": 15
        }
      ]
    },
    {
      "cell_type": "code",
      "metadata": {
        "id": "0putFWYosAKf",
        "colab_type": "code",
        "colab": {
          "base_uri": "https://localhost:8080/",
          "height": 34
        },
        "outputId": "ab11f08a-ca37-4082-f871-2407f1b65ba6"
      },
      "source": [
        "math.floor(23.56)"
      ],
      "execution_count": 17,
      "outputs": [
        {
          "output_type": "execute_result",
          "data": {
            "text/plain": [
              "23"
            ]
          },
          "metadata": {
            "tags": []
          },
          "execution_count": 17
        }
      ]
    },
    {
      "cell_type": "code",
      "metadata": {
        "id": "NT3BAYkzsGZj",
        "colab_type": "code",
        "colab": {
          "base_uri": "https://localhost:8080/",
          "height": 34
        },
        "outputId": "983f931e-0047-417f-cbfa-66ee8aa47715"
      },
      "source": [
        "math.ceil(23.56)"
      ],
      "execution_count": 18,
      "outputs": [
        {
          "output_type": "execute_result",
          "data": {
            "text/plain": [
              "24"
            ]
          },
          "metadata": {
            "tags": []
          },
          "execution_count": 18
        }
      ]
    }
  ]
}