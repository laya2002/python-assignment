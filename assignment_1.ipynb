{
  "nbformat": 4,
  "nbformat_minor": 0,
  "metadata": {
    "colab": {
      "name": "assignment 1",
      "provenance": [],
      "collapsed_sections": [],
      "authorship_tag": "ABX9TyOqDXVKcRQp5rhmwAqwwjbP",
      "include_colab_link": true
    },
    "kernelspec": {
      "name": "python3",
      "display_name": "Python 3"
    }
  },
  "cells": [
    {
      "cell_type": "markdown",
      "metadata": {
        "id": "view-in-github",
        "colab_type": "text"
      },
      "source": [
        "<a href=\"https://colab.research.google.com/github/laya2002/python-assignment/blob/master/assignment_1.ipynb\" target=\"_parent\"><img src=\"https://colab.research.google.com/assets/colab-badge.svg\" alt=\"Open In Colab\"/></a>"
      ]
    },
    {
      "cell_type": "code",
      "metadata": {
        "id": "v2OcQUTK3j1t",
        "colab_type": "code",
        "colab": {}
      },
      "source": [
        ""
      ],
      "execution_count": null,
      "outputs": []
    },
    {
      "cell_type": "markdown",
      "metadata": {
        "id": "PopJTkSu3qIy",
        "colab_type": "text"
      },
      "source": [
        "program to design simple calculator for operators "
      ]
    },
    {
      "cell_type": "code",
      "metadata": {
        "id": "aFcBoBU43yxd",
        "colab_type": "code",
        "colab": {
          "base_uri": "https://localhost:8080/",
          "height": 68
        },
        "outputId": "64dfa066-3f6e-4105-a1d3-24246589fd98"
      },
      "source": [
        "a=int(input())\n",
        "b=int(input())\n",
        "print(a+b,a-b,a/b,a//b,a%b,a**b)"
      ],
      "execution_count": 1,
      "outputs": [
        {
          "output_type": "stream",
          "text": [
            "3\n",
            "6\n",
            "9 -3 0.5 0 3 729\n"
          ],
          "name": "stdout"
        }
      ]
    },
    {
      "cell_type": "markdown",
      "metadata": {
        "id": "Zg1Jt9vg4QdM",
        "colab_type": "text"
      },
      "source": [
        "program to calculate simple interest"
      ]
    },
    {
      "cell_type": "code",
      "metadata": {
        "id": "ul0LkfNI4bMI",
        "colab_type": "code",
        "colab": {
          "base_uri": "https://localhost:8080/",
          "height": 85
        },
        "outputId": "abb2e7a4-62eb-4cc3-9adc-3e60c1affd4a"
      },
      "source": [
        "p=int(input())\n",
        "t=int(input())\n",
        "r=int(input())\n",
        "print((p*t*r)/100)"
      ],
      "execution_count": 2,
      "outputs": [
        {
          "output_type": "stream",
          "text": [
            "5\n",
            "5\n",
            "10\n",
            "2.5\n"
          ],
          "name": "stdout"
        }
      ]
    },
    {
      "cell_type": "markdown",
      "metadata": {
        "id": "MdExBmYl5O8c",
        "colab_type": "text"
      },
      "source": [
        "program to calculate area of a circle"
      ]
    },
    {
      "cell_type": "code",
      "metadata": {
        "id": "lu-B8-mo5YGQ",
        "colab_type": "code",
        "colab": {
          "base_uri": "https://localhost:8080/",
          "height": 51
        },
        "outputId": "b55074c1-5314-4509-e1a0-b541b485bc11"
      },
      "source": [
        "radius=float(input())\n",
        "print('area of a circle is',3.14*radius**2)"
      ],
      "execution_count": 3,
      "outputs": [
        {
          "output_type": "stream",
          "text": [
            "3\n",
            "area of a circle is 28.26\n"
          ],
          "name": "stdout"
        }
      ]
    },
    {
      "cell_type": "markdown",
      "metadata": {
        "id": "KCWRaEIh5yKY",
        "colab_type": "text"
      },
      "source": [
        "program to calculate area of triangle"
      ]
    },
    {
      "cell_type": "code",
      "metadata": {
        "id": "YvJ0-VAR582C",
        "colab_type": "code",
        "colab": {
          "base_uri": "https://localhost:8080/",
          "height": 68
        },
        "outputId": "6ece9ef6-4917-4d9c-d19f-8d42c974dcb4"
      },
      "source": [
        "breadth=int(input())\n",
        "length=int(input())\n",
        "print(\"area of triangle is\",(1/2)*breadth*length)"
      ],
      "execution_count": 4,
      "outputs": [
        {
          "output_type": "stream",
          "text": [
            "3\n",
            "5\n",
            "area of triangle is 7.5\n"
          ],
          "name": "stdout"
        }
      ]
    },
    {
      "cell_type": "markdown",
      "metadata": {
        "id": "WfuA8Fnl6eJB",
        "colab_type": "text"
      },
      "source": [
        "write a python program to convert temperature in celsius to fahrenheit"
      ]
    },
    {
      "cell_type": "code",
      "metadata": {
        "id": "M9DiFqH86wzt",
        "colab_type": "code",
        "colab": {
          "base_uri": "https://localhost:8080/",
          "height": 51
        },
        "outputId": "3ee67b7d-5362-4ea3-9bdf-161c8c5d4bc2"
      },
      "source": [
        "celsius=float(input())\n",
        "print('after conversion in fahrenheit is',celsius*1.8+32)"
      ],
      "execution_count": 5,
      "outputs": [
        {
          "output_type": "stream",
          "text": [
            "37.5\n",
            "after conversion in fahrenheit is 99.5\n"
          ],
          "name": "stdout"
        }
      ]
    },
    {
      "cell_type": "markdown",
      "metadata": {
        "id": "qBcXEPtv7RPI",
        "colab_type": "text"
      },
      "source": [
        "program to calculate area of rectangle"
      ]
    },
    {
      "cell_type": "code",
      "metadata": {
        "id": "GdhoXZrT7fGY",
        "colab_type": "code",
        "colab": {
          "base_uri": "https://localhost:8080/",
          "height": 68
        },
        "outputId": "21ca4b90-293b-44f2-e38a-8b2732aa1478"
      },
      "source": [
        "length=int(input())\n",
        "breadth=int(input())\n",
        "print(\"area of rectangle is\",length*breadth)"
      ],
      "execution_count": 6,
      "outputs": [
        {
          "output_type": "stream",
          "text": [
            "2\n",
            "3\n",
            "area of rectangle is 6\n"
          ],
          "name": "stdout"
        }
      ]
    },
    {
      "cell_type": "markdown",
      "metadata": {
        "id": "SJN-6al38BWn",
        "colab_type": "text"
      },
      "source": [
        "program to calculate perimeter of square"
      ]
    },
    {
      "cell_type": "code",
      "metadata": {
        "id": "ujvfoZpA8JIM",
        "colab_type": "code",
        "colab": {
          "base_uri": "https://localhost:8080/",
          "height": 51
        },
        "outputId": "58617bd0-8aee-4e4c-a188-4206e594edf6"
      },
      "source": [
        "a=int(input())\n",
        "print(\"perimeter of a square is\",4*a)"
      ],
      "execution_count": 7,
      "outputs": [
        {
          "output_type": "stream",
          "text": [
            "3\n",
            "perimeter of a square is 12\n"
          ],
          "name": "stdout"
        }
      ]
    },
    {
      "cell_type": "markdown",
      "metadata": {
        "id": "HKgRbIbu8j9r",
        "colab_type": "text"
      },
      "source": [
        "program to calculate circumference of a circle"
      ]
    },
    {
      "cell_type": "code",
      "metadata": {
        "id": "TbNJbNUZ8uWv",
        "colab_type": "code",
        "colab": {
          "base_uri": "https://localhost:8080/",
          "height": 51
        },
        "outputId": "e31e33c1-be27-4a64-c2c1-6c81204aa0e2"
      },
      "source": [
        "radius=float(input())\n",
        "print(\"circumference of a circle is\",2*3.14*radius)"
      ],
      "execution_count": 9,
      "outputs": [
        {
          "output_type": "stream",
          "text": [
            "7.6\n",
            "circumference of a circle is 47.728\n"
          ],
          "name": "stdout"
        }
      ]
    },
    {
      "cell_type": "markdown",
      "metadata": {
        "id": "Sujrk3jH9Wm9",
        "colab_type": "text"
      },
      "source": [
        "program to swap two numbers"
      ]
    },
    {
      "cell_type": "code",
      "metadata": {
        "id": "NdnwcyWx9d9m",
        "colab_type": "code",
        "colab": {
          "base_uri": "https://localhost:8080/",
          "height": 68
        },
        "outputId": "0d355900-7cdc-4708-c1b5-05f6a1e954da"
      },
      "source": [
        "a=int(input())\n",
        "b=int(input())\n",
        "temp=a\n",
        "a=b\n",
        "b=temp\n",
        "print(\"after swapping values are\",a,b)"
      ],
      "execution_count": 10,
      "outputs": [
        {
          "output_type": "stream",
          "text": [
            "2\n",
            "3\n",
            "after swapping values are 3 2\n"
          ],
          "name": "stdout"
        }
      ]
    },
    {
      "cell_type": "code",
      "metadata": {
        "id": "jAK_tkJY9cf-",
        "colab_type": "code",
        "colab": {}
      },
      "source": [
        ""
      ],
      "execution_count": null,
      "outputs": []
    }
  ]
}